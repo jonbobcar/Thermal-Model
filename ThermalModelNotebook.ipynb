{
 "cells": [
  {
   "cell_type": "code",
   "execution_count": 58,
   "metadata": {},
   "outputs": [],
   "source": [
    "import numpy as np\n",
    "from scipy import signal, sparse\n",
    "%matplotlib inline\n",
    "import matplotlib.pyplot as plt\n",
    "import pprint as pp"
   ]
  },
  {
   "cell_type": "code",
   "execution_count": 37,
   "metadata": {},
   "outputs": [],
   "source": [
    "n = 9\n",
    "m = 9\n",
    "N = n * m\n",
    "tempInitial = 0\n",
    "initialStates = tempInitial * np.ones([n * m])"
   ]
  },
  {
   "cell_type": "code",
   "execution_count": 38,
   "metadata": {},
   "outputs": [],
   "source": [
    "# Material Properties\n",
    "materialHeatCapacity = 840  # J/(kg-K)\n",
    "materialDensity = 1850  # kg/m^3\n",
    "symRunTime = 6000  # run time; seconds\n",
    "materialConductivity = 10  # W/(m-K)\n",
    "plateLength = 0.16  # side length; meters\n",
    "plateThickness = 0.18  # meters\n",
    "powerInput = 190  # Value of total step power input; watts\n",
    "plateArea = plateLength**2\n",
    "convectionCoeffTop = 15  # Convection heat loss coefficient on top of plate\n",
    "convectionCoeffBottom = 2  # Convection heat loss coefficient on bottom of plate\n",
    "powerLossTop = -convectionCoeffTop * (plateArea/N)  # Value of step power loss top\n",
    "powerLossBottom = -convectionCoeffBottom * (plateArea/N)  # Value of step power loss bottom"
   ]
  },
  {
   "cell_type": "code",
   "execution_count": 39,
   "metadata": {},
   "outputs": [],
   "source": [
    "# Time Step and Vector\n",
    "simSteps = 100\n",
    "dt = symRunTime/simSteps\n",
    "timeVector = np.linspace(dt, symRunTime, simSteps)\n",
    "\n",
    "dx = plateLength / n\n",
    "nodeCrossSection = dx * plateThickness  # cross sectional area of a node\n",
    "\n",
    "materialCapacitance = materialHeatCapacity * dx * nodeCrossSection * materialDensity\n",
    "# thermal capacitance\n",
    "materialResistance = dx / (materialConductivity * nodeCrossSection)\n",
    "# thermal resistance"
   ]
  },
  {
   "cell_type": "code",
   "execution_count": 59,
   "metadata": {},
   "outputs": [],
   "source": [
    "# Setup the state space 'A' Matrix\n",
    "\n",
    "tempA1 = (-(4*materialResistance**3)/(materialCapacitance*materialResistance**4)+powerLossTop+powerLossBottom)\\\n",
    "        * np.ones([n*m])\n",
    "# Value of C_i,j for internal elements\n",
    "tempA1[0:n] = -(3 * materialResistance ** 2) / (materialCapacitance * materialResistance ** 3) + \\\n",
    "        powerLossTop + powerLossBottom\n",
    "# Value of C_i,j for left edge replacement\n",
    "tempA1[n*m-n:n*m] = -(3 * materialResistance ** 2) / \\\n",
    "        (materialCapacitance * materialResistance ** 3) + powerLossTop + powerLossBottom\n",
    "# Value of C_i,j for right edge replacement\n",
    "\n",
    "# This loop modifies the C_i,j value for edge elements along the top and bottom of the grid by checking\n",
    "# if they are an even multiple of n or are one larger than an even multiple of n\n",
    "for value in range(N):\n",
    "    if value % n == 0:\n",
    "        tempA1[value] = -(3 * materialResistance ** 2) / (materialCapacitance * materialResistance ** 3)\\\n",
    "            + powerLossTop + powerLossBottom  # bottom row\n",
    "    elif value % n == (n - 1):\n",
    "        tempA1[value] = -(3 * materialResistance ** 2) / (materialCapacitance * materialResistance ** 3)\\\n",
    "            + powerLossTop + powerLossBottom  # top row\n",
    "    else:\n",
    "        pass\n",
    "\n",
    "# This block adjusts the corners to the correct coefficient values.\n",
    "tempA1[0] = -(2 * materialResistance) / (materialCapacitance * materialResistance ** 2) + \\\n",
    "    powerLossTop + powerLossBottom\n",
    "tempA1[n - 1] = tempA1[0]\n",
    "tempA1[N - 1] = tempA1[0]\n",
    "tempA1[n * m - n] = tempA1[0]\n",
    "\n",
    "# tempA2 will map to two diagonals directly next to the main diagonal and\n",
    "# represents resistance between C_i,j and C_i,j(+/-)1 (elements east and\n",
    "# west). The A Matrix is constructed by first going down the left column\n",
    "# and finishing by going down the right column, so offsetting the diagonal\n",
    "# by n rows takes care of removing resistances where there is no element to\n",
    "# the east or west.\n",
    "\n",
    "tempA2 = (1 / (materialCapacitance * materialResistance)) * np.ones([n * m - n])\n",
    "\n",
    "# tempA3 will map to a diagonal which represents resistance between C_i,j and\n",
    "# C_i-1,j (element south)\n",
    "\n",
    "tempA3 = (1 / (materialCapacitance * materialResistance)) * np.ones([n * m - 1])\n",
    "\n",
    "# This loop removes elements from tempA3 at the bottom edge of the grid array,\n",
    "# where there is no thermal element to the south.\n",
    "\n",
    "for value in range(N - 1):\n",
    "    if (value + 1) % n == 0:\n",
    "        tempA3[value] = 0\n",
    "    else:\n",
    "        pass\n",
    "\n",
    "# tempA4 will map to a diagonal which represents resistance between C_i,j and\n",
    "# C_i+1,j (element north)\n",
    "\n",
    "tempA4 = (1 / (materialCapacitance * materialResistance)) * np.ones(n * m - 1)\n",
    "\n",
    "# This loop removes elements from tempA4 at the top edge of the grid array,\n",
    "# where there is no thermal element to the north.\n",
    "\n",
    "for value in range(N - 1):\n",
    "    if (value + 1) % n == 1:\n",
    "        tempA4[value - 1] = 0\n",
    "    else:\n",
    "        pass\n",
    "\n",
    "# Combine state variable coefficient values into A matrix\n",
    "v = np.zeros(n)  # zeros required to offset east and west edges\n",
    "tempAEast = np.concatenate((v, tempA2))  # elements to the east\n",
    "tempAWest = np.concatenate((tempA2, v))  # elements to the west\n",
    "tempA3 = np.concatenate((tempA3, [0]))  # elements to the south, offset\n",
    "tempA4 = np.concatenate(([0], tempA4))  # elements to the north, offset\n",
    "\n",
    "# Vectors required to create sparse A matrix\n",
    "data = np.array(([tempAWest], [tempA3], [tempA1], [tempA4], [tempAEast]))\n",
    "diagonals = np.array([-n, -1, 0, 1, n])\n",
    "# data = np.array(([tempA1]))\n",
    "\n",
    "sysA = sparse.diags(data, [-n, -1, 0, 1, n], [N, N])\n",
    "# sysA = scipy.sparse.diags(data, [0], [N, N])"
   ]
  },
  {
   "cell_type": "code",
   "execution_count": 63,
   "metadata": {},
   "outputs": [
    {
     "name": "stdout",
     "output_type": "stream",
     "text": [
      "<class 'scipy.sparse.dia.dia_matrix'>\n",
      "(81, 81)\n",
      "<class 'numpy.ndarray'>\n",
      "(81,)\n",
      "<class 'numpy.ndarray'>\n",
      "(81, 81)\n",
      "<class 'numpy.ndarray'>\n",
      "(1,)\n"
     ]
    }
   ],
   "source": [
    "sysBComponents = np.zeros(N)\n",
    "\n",
    "sysBComponents[0:n] = 1 / (materialCapacitance * materialResistance)\n",
    "\n",
    "sysB = sysBComponents\n",
    "\n",
    "sysUPowerInput = np.zeros_like(timeVector)\n",
    "\n",
    "sysUPowerInput[0:len(timeVector)] = powerInput / np.count_nonzero(sysBComponents)\n",
    "\n",
    "sysU = sysUPowerInput\n",
    "\n",
    "sysC = np.eye(N)\n",
    "\n",
    "sysD = np.array([0])\n",
    "\n",
    "sys = np.array((sysA, sysB, sysC, sysD))\n",
    "print(type(sysA))\n",
    "print(sysA.shape)\n",
    "print(type(sysB))\n",
    "print(sysB.shape)\n",
    "print(type(sysC))\n",
    "print(sysC.shape)\n",
    "print(type(sysD))\n",
    "print(sysD.shape)"
   ]
  },
  {
   "cell_type": "code",
   "execution_count": 64,
   "metadata": {},
   "outputs": [
    {
     "ename": "ValueError",
     "evalue": "The input arrays have incompatible shapes.",
     "output_type": "error",
     "traceback": [
      "\u001b[0;31m---------------------------------------------------------------------------\u001b[0m",
      "\u001b[0;31mValueError\u001b[0m                                Traceback (most recent call last)",
      "\u001b[0;32m<ipython-input-64-3a1169be580d>\u001b[0m in \u001b[0;36m<module>\u001b[0;34m()\u001b[0m\n\u001b[0;32m----> 1\u001b[0;31m \u001b[0mtOut\u001b[0m\u001b[0;34m,\u001b[0m \u001b[0myOut\u001b[0m\u001b[0;34m,\u001b[0m \u001b[0mxOut\u001b[0m \u001b[0;34m=\u001b[0m \u001b[0msignal\u001b[0m\u001b[0;34m.\u001b[0m\u001b[0mlsim\u001b[0m\u001b[0;34m(\u001b[0m\u001b[0msys\u001b[0m\u001b[0;34m,\u001b[0m \u001b[0msysU\u001b[0m\u001b[0;34m,\u001b[0m \u001b[0mtimeVector\u001b[0m\u001b[0;34m)\u001b[0m\u001b[0;34m\u001b[0m\u001b[0m\n\u001b[0m",
      "\u001b[0;32m/anaconda3/lib/python3.6/site-packages/scipy/signal/ltisys.py\u001b[0m in \u001b[0;36mlsim\u001b[0;34m(system, U, T, X0, interp)\u001b[0m\n\u001b[1;32m   1760\u001b[0m                              'systems.')\n\u001b[1;32m   1761\u001b[0m     \u001b[0;32melse\u001b[0m\u001b[0;34m:\u001b[0m\u001b[0;34m\u001b[0m\u001b[0m\n\u001b[0;32m-> 1762\u001b[0;31m         \u001b[0msys\u001b[0m \u001b[0;34m=\u001b[0m \u001b[0mlti\u001b[0m\u001b[0;34m(\u001b[0m\u001b[0;34m*\u001b[0m\u001b[0msystem\u001b[0m\u001b[0;34m)\u001b[0m\u001b[0;34m.\u001b[0m\u001b[0m_as_ss\u001b[0m\u001b[0;34m(\u001b[0m\u001b[0;34m)\u001b[0m\u001b[0;34m\u001b[0m\u001b[0m\n\u001b[0m\u001b[1;32m   1763\u001b[0m     \u001b[0mT\u001b[0m \u001b[0;34m=\u001b[0m \u001b[0matleast_1d\u001b[0m\u001b[0;34m(\u001b[0m\u001b[0mT\u001b[0m\u001b[0;34m)\u001b[0m\u001b[0;34m\u001b[0m\u001b[0m\n\u001b[1;32m   1764\u001b[0m     \u001b[0;32mif\u001b[0m \u001b[0mlen\u001b[0m\u001b[0;34m(\u001b[0m\u001b[0mT\u001b[0m\u001b[0;34m.\u001b[0m\u001b[0mshape\u001b[0m\u001b[0;34m)\u001b[0m \u001b[0;34m!=\u001b[0m \u001b[0;36m1\u001b[0m\u001b[0;34m:\u001b[0m\u001b[0;34m\u001b[0m\u001b[0m\n",
      "\u001b[0;32m/anaconda3/lib/python3.6/site-packages/scipy/signal/ltisys.py\u001b[0m in \u001b[0;36m__init__\u001b[0;34m(self, *system, **kwargs)\u001b[0m\n\u001b[1;32m   1325\u001b[0m         \u001b[0mself\u001b[0m\u001b[0;34m.\u001b[0m\u001b[0m_D\u001b[0m \u001b[0;34m=\u001b[0m \u001b[0;32mNone\u001b[0m\u001b[0;34m\u001b[0m\u001b[0m\n\u001b[1;32m   1326\u001b[0m \u001b[0;34m\u001b[0m\u001b[0m\n\u001b[0;32m-> 1327\u001b[0;31m         \u001b[0mself\u001b[0m\u001b[0;34m.\u001b[0m\u001b[0mA\u001b[0m\u001b[0;34m,\u001b[0m \u001b[0mself\u001b[0m\u001b[0;34m.\u001b[0m\u001b[0mB\u001b[0m\u001b[0;34m,\u001b[0m \u001b[0mself\u001b[0m\u001b[0;34m.\u001b[0m\u001b[0mC\u001b[0m\u001b[0;34m,\u001b[0m \u001b[0mself\u001b[0m\u001b[0;34m.\u001b[0m\u001b[0mD\u001b[0m \u001b[0;34m=\u001b[0m \u001b[0mabcd_normalize\u001b[0m\u001b[0;34m(\u001b[0m\u001b[0;34m*\u001b[0m\u001b[0msystem\u001b[0m\u001b[0;34m)\u001b[0m\u001b[0;34m\u001b[0m\u001b[0m\n\u001b[0m\u001b[1;32m   1328\u001b[0m \u001b[0;34m\u001b[0m\u001b[0m\n\u001b[1;32m   1329\u001b[0m     \u001b[0;32mdef\u001b[0m \u001b[0m__repr__\u001b[0m\u001b[0;34m(\u001b[0m\u001b[0mself\u001b[0m\u001b[0;34m)\u001b[0m\u001b[0;34m:\u001b[0m\u001b[0;34m\u001b[0m\u001b[0m\n",
      "\u001b[0;32m/anaconda3/lib/python3.6/site-packages/scipy/signal/lti_conversion.py\u001b[0m in \u001b[0;36mabcd_normalize\u001b[0;34m(A, B, C, D)\u001b[0m\n\u001b[1;32m    190\u001b[0m     \u001b[0mA\u001b[0m \u001b[0;34m=\u001b[0m \u001b[0m_restore\u001b[0m\u001b[0;34m(\u001b[0m\u001b[0mA\u001b[0m\u001b[0;34m,\u001b[0m \u001b[0;34m(\u001b[0m\u001b[0mp\u001b[0m\u001b[0;34m,\u001b[0m \u001b[0mp\u001b[0m\u001b[0;34m)\u001b[0m\u001b[0;34m)\u001b[0m\u001b[0;34m\u001b[0m\u001b[0m\n\u001b[1;32m    191\u001b[0m     \u001b[0mB\u001b[0m \u001b[0;34m=\u001b[0m \u001b[0m_restore\u001b[0m\u001b[0;34m(\u001b[0m\u001b[0mB\u001b[0m\u001b[0;34m,\u001b[0m \u001b[0;34m(\u001b[0m\u001b[0mp\u001b[0m\u001b[0;34m,\u001b[0m \u001b[0mq\u001b[0m\u001b[0;34m)\u001b[0m\u001b[0;34m)\u001b[0m\u001b[0;34m\u001b[0m\u001b[0m\n\u001b[0;32m--> 192\u001b[0;31m     \u001b[0mC\u001b[0m \u001b[0;34m=\u001b[0m \u001b[0m_restore\u001b[0m\u001b[0;34m(\u001b[0m\u001b[0mC\u001b[0m\u001b[0;34m,\u001b[0m \u001b[0;34m(\u001b[0m\u001b[0mr\u001b[0m\u001b[0;34m,\u001b[0m \u001b[0mp\u001b[0m\u001b[0;34m)\u001b[0m\u001b[0;34m)\u001b[0m\u001b[0;34m\u001b[0m\u001b[0m\n\u001b[0m\u001b[1;32m    193\u001b[0m     \u001b[0mD\u001b[0m \u001b[0;34m=\u001b[0m \u001b[0m_restore\u001b[0m\u001b[0;34m(\u001b[0m\u001b[0mD\u001b[0m\u001b[0;34m,\u001b[0m \u001b[0;34m(\u001b[0m\u001b[0mr\u001b[0m\u001b[0;34m,\u001b[0m \u001b[0mq\u001b[0m\u001b[0;34m)\u001b[0m\u001b[0;34m)\u001b[0m\u001b[0;34m\u001b[0m\u001b[0m\n\u001b[1;32m    194\u001b[0m \u001b[0;34m\u001b[0m\u001b[0m\n",
      "\u001b[0;32m/anaconda3/lib/python3.6/site-packages/scipy/signal/lti_conversion.py\u001b[0m in \u001b[0;36m_restore\u001b[0;34m(M, shape)\u001b[0m\n\u001b[1;32m    145\u001b[0m     \u001b[0;32melse\u001b[0m\u001b[0;34m:\u001b[0m\u001b[0;34m\u001b[0m\u001b[0m\n\u001b[1;32m    146\u001b[0m         \u001b[0;32mif\u001b[0m \u001b[0mM\u001b[0m\u001b[0;34m.\u001b[0m\u001b[0mshape\u001b[0m \u001b[0;34m!=\u001b[0m \u001b[0mshape\u001b[0m\u001b[0;34m:\u001b[0m\u001b[0;34m\u001b[0m\u001b[0m\n\u001b[0;32m--> 147\u001b[0;31m             \u001b[0;32mraise\u001b[0m \u001b[0mValueError\u001b[0m\u001b[0;34m(\u001b[0m\u001b[0;34m\"The input arrays have incompatible shapes.\"\u001b[0m\u001b[0;34m)\u001b[0m\u001b[0;34m\u001b[0m\u001b[0m\n\u001b[0m\u001b[1;32m    148\u001b[0m         \u001b[0;32mreturn\u001b[0m \u001b[0mM\u001b[0m\u001b[0;34m\u001b[0m\u001b[0m\n\u001b[1;32m    149\u001b[0m \u001b[0;34m\u001b[0m\u001b[0m\n",
      "\u001b[0;31mValueError\u001b[0m: The input arrays have incompatible shapes."
     ]
    }
   ],
   "source": [
    "tOut, yOut, xOut = signal.lsim(sys, sysU, timeVector)"
   ]
  }
 ],
 "metadata": {
  "kernelspec": {
   "display_name": "Python 3",
   "language": "python",
   "name": "python3"
  },
  "language_info": {
   "codemirror_mode": {
    "name": "ipython",
    "version": 3
   },
   "file_extension": ".py",
   "mimetype": "text/x-python",
   "name": "python",
   "nbconvert_exporter": "python",
   "pygments_lexer": "ipython3",
   "version": "3.6.4"
  }
 },
 "nbformat": 4,
 "nbformat_minor": 2
}
